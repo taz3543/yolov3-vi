{
  "nbformat": 4,
  "nbformat_minor": 0,
  "metadata": {
    "colab": {
      "provenance": [],
      "collapsed_sections": [],
      "mount_file_id": "1DL7LS9Ad3106pQwgjW0ddIatT3K3kksH",
      "authorship_tag": "ABX9TyPJHq9H2oH29xRhc8LuZooD",
      "include_colab_link": true
    },
    "kernelspec": {
      "name": "python3",
      "display_name": "Python 3"
    },
    "language_info": {
      "name": "python"
    }
  },
  "cells": [
    {
      "cell_type": "markdown",
      "metadata": {
        "id": "view-in-github",
        "colab_type": "text"
      },
      "source": [
        "<a href=\"https://colab.research.google.com/github/taz3543/yolov3-vi/blob/main/drowsiness_detection1.ipynb\" target=\"_parent\"><img src=\"https://colab.research.google.com/assets/colab-badge.svg\" alt=\"Open In Colab\"/></a>"
      ]
    },
    {
      "cell_type": "code",
      "execution_count": null,
      "metadata": {
        "id": "R0VjYf0vZX6l"
      },
      "outputs": [],
      "source": [
        "import cv2\n",
        "import os\n",
        "from keras.models import load_model\n",
        "import numpy as np\n",
        "import time\n",
        "from google.colab.patches import cv2_imshow"
      ]
    },
    {
      "cell_type": "code",
      "source": [
        "face = cv2.CascadeClassifier('haarcascade_frontalface_alt.xml' )\n",
        "leye = cv2.CascadeClassifier('haarcascade_lefteye_2splits.xml')\n",
        "reye = cv2.CascadeClassifier('haarcascade_righteye_2splits.xml')\n"
      ],
      "metadata": {
        "id": "BoX42KH-cJnd"
      },
      "execution_count": null,
      "outputs": []
    },
    {
      "cell_type": "code",
      "source": [
        "face"
      ],
      "metadata": {
        "colab": {
          "base_uri": "https://localhost:8080/"
        },
        "id": "jgtxp1UI6tfV",
        "outputId": "8be62bae-c741-4e36-df79-bd0af08a9e1b"
      },
      "execution_count": null,
      "outputs": [
        {
          "output_type": "execute_result",
          "data": {
            "text/plain": [
              "< cv2.CascadeClassifier 0x7f72702e6630>"
            ]
          },
          "metadata": {},
          "execution_count": 44
        }
      ]
    },
    {
      "cell_type": "code",
      "source": [
        "lbl = [\"close\",\"open\"]\n",
        "model = load_model('/content/cnnCat2.h5')\n",
        "path = os.getcwd()\n",
        "font = cv2.FONT_HERSHEY_COMPLEX_SMALL\n",
        "count = 0\n",
        "score = 0\n",
        "thicc = 2\n",
        "rpred = [99]\n",
        "lpred = [99]\n"
      ],
      "metadata": {
        "id": "yD1-1kr7caV_"
      },
      "execution_count": null,
      "outputs": []
    },
    {
      "cell_type": "code",
      "source": [
        "!gdown --id 1FV3ol3fGVQNhpZBWk9I4yeZUCtl1HvWb"
      ],
      "metadata": {
        "colab": {
          "base_uri": "https://localhost:8080/"
        },
        "id": "NHS3crKlIybl",
        "outputId": "8a36250a-d365-4f9c-f37c-00fd8fd6e59f"
      },
      "execution_count": null,
      "outputs": [
        {
          "output_type": "stream",
          "name": "stdout",
          "text": [
            "/usr/local/lib/python3.7/dist-packages/gdown/cli.py:131: FutureWarning: Option `--id` was deprecated in version 4.3.1 and will be removed in 5.0. You don't need to pass it anymore to use a file ID.\n",
            "  category=FutureWarning,\n",
            "Downloading...\n",
            "From: https://drive.google.com/uc?id=1FV3ol3fGVQNhpZBWk9I4yeZUCtl1HvWb\n",
            "To: /content/cl.jpg\n",
            "100% 24.0k/24.0k [00:00<00:00, 29.2MB/s]\n"
          ]
        }
      ]
    },
    {
      "cell_type": "code",
      "source": [
        "cnt = 0\n",
        "\n",
        "while cnt < 0:\n",
        "  cap = cv2.VideoCapture(0)\n",
        "  ret , frame = cap.read()  \n",
        "\n",
        "  height, width = frame.shape[:2]\n",
        "\n",
        "  gray = cv2.cvtColor(frame,cv2.COLOR_BGR2GRAY)\n",
        "  faces = face.detectMultiScale(gray, minNeighbors = 5 , scaleFactor = 1.1 , minSize = (25,25))\n",
        "  left_eye = leye.detectMultiScale(gray)\n",
        "  right_eye = reye.detectMultiScale(gray)\n",
        "\n",
        "  cv2.rectangle(frame,(0,height-50),(200,height),(0,0,0),thickness = cv2.FILLED)\n",
        "\n",
        "  for(x,y,w,h) in faces:\n",
        "    cv2.rectangle(frame,(x,y),(x+w,y+h),(100,100,100),1)\n",
        "  \n",
        "  for (x,y,w,h) in right_eye:\n",
        "    r_eye = frame[y:y+h,x:x+w]\n",
        "    count = count +1\n",
        "    r_eye= cv2.cvtColor(r_eye,cv2.COLOR_BGR2GRAY)\n",
        "    r_eye = cv2.resize(r_eye,(24,24))\n",
        "    r_eye = r_eye/255\n",
        "    r_eye = r_eye.resize(r_eye,(24,24),-1)\n",
        "    r_eye = np.expand_dims(r_eye)\n",
        "    if(rpred[0][1] == 1):\n",
        "      lbl = 'open'\n",
        "    if(rpred[0][1] == 0):\n",
        "      lbl = 'closed'\n",
        "    break\n",
        "  \n",
        "  for (x,y,w,h) in left_eye:\n",
        "    l_eye = frame[y:y+h,x:x+w]\n",
        "    count = count +1\n",
        "    l_eye= cv2.cvtColor(l_eye,cv2.COLOR_BGR2GRAY)\n",
        "    l_eye = cv2.resize(l_eye,(24,24))\n",
        "    l_eye = l_eye/255\n",
        "    l_eye = l_eye.resize(l_eye,(24,24),-1)\n",
        "    l_eye = np.expand_dims(l_eye)\n",
        "    if(lpred[0][1] == 1):\n",
        "      lbl = 'open'\n",
        "    if(lpred[0][1] == 0):\n",
        "      lbl = 'closed'\n",
        "    break\n",
        "  \n",
        "  if(rpred[0][1]>=0.9 and lpred[0][1]>= 0.9):\n",
        "    score = score -1\n",
        "    cv2.putText(frame,\"open\",(10,height-20),font,1,(255,255,255),1,cv2.LINE_AA)\n",
        "  else:\n",
        "    cv2.putText(frame,\"closed\",(10,height-20),font,1,(255,255,255),1,cv2.LINE_AA)\n",
        "  \n",
        "  if(score < 0):\n",
        "    score = 0\n",
        "  if(score > 15):\n",
        "    cv2.imwrite(os.path.join(path,'image.jpg'),frame)\n",
        "    if(thicc < 16):\n",
        "      thicc = thicc +2\n",
        "    else:\n",
        "      thicc = thicc -2\n",
        "      if(thicc<2):\n",
        "        thicc = 2\n",
        "    cv2.rectangle(frame,(0,0),(width,height),(0,0,255),thicc)\n",
        "    cv2_imshow(frame)\n",
        "    if cv2.waitKey(1) & 0xFF== ord('q'):\n",
        "      break\n",
        "    cnt = cnt +1\n",
        "  \n",
        "cap.release()\n",
        "cv2.destroyAllWindows()"
      ],
      "metadata": {
        "id": "q4s6TaAPjSVS"
      },
      "execution_count": null,
      "outputs": []
    },
    {
      "cell_type": "code",
      "source": [
        "print(ret)"
      ],
      "metadata": {
        "colab": {
          "base_uri": "https://localhost:8080/"
        },
        "id": "20knidvZ-lMG",
        "outputId": "bf8c91e5-96cd-4a34-a55f-ba1c37deca0d"
      },
      "execution_count": null,
      "outputs": [
        {
          "output_type": "stream",
          "name": "stdout",
          "text": [
            "False\n"
          ]
        }
      ]
    }
  ]
}