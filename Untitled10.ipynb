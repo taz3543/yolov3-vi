{
  "nbformat": 4,
  "nbformat_minor": 0,
  "metadata": {
    "colab": {
      "provenance": []
    },
    "kernelspec": {
      "name": "python3",
      "display_name": "Python 3"
    },
    "language_info": {
      "name": "python"
    }
  },
  "cells": [
    {
      "cell_type": "code",
      "execution_count": null,
      "metadata": {
        "id": "wzQlbxh_XPnK"
      },
      "outputs": [],
      "source": [
        "import cv2\n",
        "from google.colab.patches import cv2_imshow\n",
        "import time\n",
        "import numpy as np"
      ]
    },
    {
      "cell_type": "code",
      "source": [
        "!wget https://pjreddie.com/media/files/yolov3-tiny.weights\n",
        "!wget https://github.com/pjreddie/darknet/raw/master/cfg/yolov3-tiny.cfg\n",
        "!wget \"https://raw.githubusercontent.com/pjreddie/darknet/master/data/coco.names\""
      ],
      "metadata": {
        "colab": {
          "base_uri": "https://localhost:8080/"
        },
        "id": "IT6SE1j_XUlf",
        "outputId": "d4de93b1-9f6b-472c-ec4a-e869c52aebce"
      },
      "execution_count": null,
      "outputs": [
        {
          "output_type": "stream",
          "name": "stdout",
          "text": [
            "--2022-09-08 17:10:08--  https://pjreddie.com/media/files/yolov3-tiny.weights\n",
            "Resolving pjreddie.com (pjreddie.com)... 128.208.4.108\n",
            "Connecting to pjreddie.com (pjreddie.com)|128.208.4.108|:443... connected.\n",
            "HTTP request sent, awaiting response... 200 OK\n",
            "Length: 35434956 (34M) [application/octet-stream]\n",
            "Saving to: ‘yolov3-tiny.weights’\n",
            "\n",
            "yolov3-tiny.weights 100%[===================>]  33.79M  14.0MB/s    in 2.4s    \n",
            "\n",
            "2022-09-08 17:10:11 (14.0 MB/s) - ‘yolov3-tiny.weights’ saved [35434956/35434956]\n",
            "\n",
            "--2022-09-08 17:10:11--  https://github.com/pjreddie/darknet/raw/master/cfg/yolov3-tiny.cfg\n",
            "Resolving github.com (github.com)... 140.82.121.4\n",
            "Connecting to github.com (github.com)|140.82.121.4|:443... connected.\n",
            "HTTP request sent, awaiting response... 302 Found\n",
            "Location: https://raw.githubusercontent.com/pjreddie/darknet/master/cfg/yolov3-tiny.cfg [following]\n",
            "--2022-09-08 17:10:11--  https://raw.githubusercontent.com/pjreddie/darknet/master/cfg/yolov3-tiny.cfg\n",
            "Resolving raw.githubusercontent.com (raw.githubusercontent.com)... 185.199.108.133, 185.199.109.133, 185.199.110.133, ...\n",
            "Connecting to raw.githubusercontent.com (raw.githubusercontent.com)|185.199.108.133|:443... connected.\n",
            "HTTP request sent, awaiting response... 200 OK\n",
            "Length: 1915 (1.9K) [text/plain]\n",
            "Saving to: ‘yolov3-tiny.cfg’\n",
            "\n",
            "yolov3-tiny.cfg     100%[===================>]   1.87K  --.-KB/s    in 0s      \n",
            "\n",
            "2022-09-08 17:10:11 (29.0 MB/s) - ‘yolov3-tiny.cfg’ saved [1915/1915]\n",
            "\n",
            "--2022-09-08 17:10:11--  https://raw.githubusercontent.com/pjreddie/darknet/master/data/coco.names\n",
            "Resolving raw.githubusercontent.com (raw.githubusercontent.com)... 185.199.108.133, 185.199.109.133, 185.199.110.133, ...\n",
            "Connecting to raw.githubusercontent.com (raw.githubusercontent.com)|185.199.108.133|:443... connected.\n",
            "HTTP request sent, awaiting response... 200 OK\n",
            "Length: 625 [text/plain]\n",
            "Saving to: ‘coco.names’\n",
            "\n",
            "coco.names          100%[===================>]     625  --.-KB/s    in 0s      \n",
            "\n",
            "2022-09-08 17:10:12 (45.4 MB/s) - ‘coco.names’ saved [625/625]\n",
            "\n"
          ]
        }
      ]
    },
    {
      "cell_type": "code",
      "source": [
        "net = cv2.dnn.readNet(\"yolov3-tiny.weights\",\"yolov3-tiny.cfg\")\n",
        "classes = []\n",
        "\n",
        "with open('coco.names','r') as f:\n",
        "  classes = [line.strip() for line in f.readlines()]\n",
        "layers = net.getLayerNames()\n",
        "yolo_layers = [layers[i - 1] for i in net.getUnconnectedOutLayers()]\n",
        "colors = np.random.uniform(0,255,size = (len(classes),3))"
      ],
      "metadata": {
        "id": "E0rqz0PBXv8M"
      },
      "execution_count": null,
      "outputs": []
    },
    {
      "cell_type": "code",
      "source": [
        "cap = cv2.VideoCapture(\"test.mp4\")"
      ],
      "metadata": {
        "id": "JmWfLp31X63a"
      },
      "execution_count": null,
      "outputs": []
    },
    {
      "cell_type": "code",
      "source": [
        "font = cv2.FONT_HERSHEY_PLAIN\n",
        "starting_time = time.time()\n",
        "frame_id = 0"
      ],
      "metadata": {
        "id": "I8SHm2UQYgTd"
      },
      "execution_count": null,
      "outputs": []
    },
    {
      "cell_type": "code",
      "source": [
        "while True:\n",
        "  _, frame = cap.read()\n",
        "  frame_id += 1\n",
        "  height, width , channels = frame.shape\n",
        "\n",
        "  #detect objects\n",
        "  blob = cv2.dnn.blobFromImage(frame , 0.00392,(416,416),(0,0,0),True,crop = False)\n",
        "\n",
        "  #detecting objects\n",
        "  net.setInput(blob)\n",
        "  outs = net.forward(yolo_layers)\n",
        "  #showing info on screen\n",
        "  class_ids = []\n",
        "  confidences = []\n",
        "  boxes = []\n",
        "\n",
        "  for out in outs:\n",
        "    for detection in out:\n",
        "      scores = detection[5:]\n",
        "      class_id = np.argmax(scores)\n",
        "      confidence = scores[class_id]\n",
        "      if confidence > 0.5:\n",
        "        #object detected\n",
        "        center_x = int(detection[0]*width)\n",
        "        center_y = int(detection[1]*height)\n",
        "        w = int(detection[2]*width)\n",
        "        h = int(detection[3]*height)\n",
        "\n",
        "        #rectangle coordinates\n",
        "        x = int(center_x - w/2)\n",
        "        y = int(center_x - w/2)\n",
        "        boxes.append([x,y,w,h])\n",
        "        confidences.append(float(confidence))\n",
        "        class_ids.append(class_id)"
      ],
      "metadata": {
        "id": "z8peWX_JbvDy",
        "colab": {
          "base_uri": "https://localhost:8080/",
          "height": 244
        },
        "outputId": "49d1e838-004a-4da1-c9ee-867409c5db5b"
      },
      "execution_count": null,
      "outputs": [
        {
          "output_type": "error",
          "ename": "AttributeError",
          "evalue": "ignored",
          "traceback": [
            "\u001b[0;31m---------------------------------------------------------------------------\u001b[0m",
            "\u001b[0;31mAttributeError\u001b[0m                            Traceback (most recent call last)",
            "\u001b[0;32m<ipython-input-9-f0912b98a944>\u001b[0m in \u001b[0;36m<module>\u001b[0;34m\u001b[0m\n\u001b[1;32m      2\u001b[0m   \u001b[0m_\u001b[0m\u001b[0;34m,\u001b[0m \u001b[0mframe\u001b[0m \u001b[0;34m=\u001b[0m \u001b[0mcap\u001b[0m\u001b[0;34m.\u001b[0m\u001b[0mread\u001b[0m\u001b[0;34m(\u001b[0m\u001b[0;34m)\u001b[0m\u001b[0;34m\u001b[0m\u001b[0;34m\u001b[0m\u001b[0m\n\u001b[1;32m      3\u001b[0m   \u001b[0mframe_id\u001b[0m \u001b[0;34m+=\u001b[0m \u001b[0;36m1\u001b[0m\u001b[0;34m\u001b[0m\u001b[0;34m\u001b[0m\u001b[0m\n\u001b[0;32m----> 4\u001b[0;31m   \u001b[0mheight\u001b[0m\u001b[0;34m,\u001b[0m \u001b[0mwidth\u001b[0m \u001b[0;34m,\u001b[0m \u001b[0mchannels\u001b[0m \u001b[0;34m=\u001b[0m \u001b[0mframe\u001b[0m\u001b[0;34m.\u001b[0m\u001b[0mshape\u001b[0m\u001b[0;34m\u001b[0m\u001b[0;34m\u001b[0m\u001b[0m\n\u001b[0m\u001b[1;32m      5\u001b[0m \u001b[0;34m\u001b[0m\u001b[0m\n\u001b[1;32m      6\u001b[0m   \u001b[0;31m#detect objects\u001b[0m\u001b[0;34m\u001b[0m\u001b[0;34m\u001b[0m\u001b[0;34m\u001b[0m\u001b[0m\n",
            "\u001b[0;31mAttributeError\u001b[0m: 'NoneType' object has no attribute 'shape'"
          ]
        }
      ]
    },
    {
      "cell_type": "code",
      "source": [
        "indexes = cv2.dnn.NMSBoxes(boxes, confidences,0.5,0.4)\n",
        "print(indexes)\n",
        "font = cv2.FONT_HERSHEY_PLAIN\n",
        "for i in range(len(boxes)):\n",
        "  if i in indexes:\n",
        "    x,y,w,h = boxes[i]\n",
        "    label = str(classes[class_ids[i]])\n",
        "    color = colors[i]\n",
        "    cv2.rectangle(frame,(x,y),(x+w,y+h),color,1)\n",
        "    cv2.putText(frame,label,(x,y+30),font,3,color,2)\n",
        "\n",
        "\n",
        "cv2_imshow(img)\n",
        "cv2.waitKey(0)\n",
        "cv2.destroyAllWindows()"
      ],
      "metadata": {
        "id": "zcAleG-CgFQd"
      },
      "execution_count": null,
      "outputs": []
    }
  ]
}